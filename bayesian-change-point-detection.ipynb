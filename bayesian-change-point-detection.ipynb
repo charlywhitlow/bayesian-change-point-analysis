{
 "cells": [
  {
   "cell_type": "markdown",
   "metadata": {},
   "source": [
    "# Bayesian Change Point Detection"
   ]
  },
  {
   "cell_type": "markdown",
   "metadata": {},
   "source": [
    "## Background to the problem"
   ]
  },
  {
   "cell_type": "markdown",
   "metadata": {},
   "source": [
    "In this project I will perform Bayesian analysis on a coal mining disasters data set (Jarrett 1979), which outlines the number of mining disasters that occurred in the UK, for each year between 1851 – 1962. As shown in Figure 1 below, the disaster rate wasn't constant during this period, and it's possible to identify a number of change points in the disaster rate.\n",
    "\n",
    "Coal mining disasters have been responsible for substantial loss of life, and as such have seen significant regulation and trade union activity, aimed at increasing worker safety. The most significant change in the disaster rate appears around 1890, and is largely recognised as being due to the Coal Mines Regulations Act of 1887, which came into law on 1st January 1888.\n",
    "\n",
    "In the years after this significant legislative change, the disaster rate is less consistent with periods where the rate is increasing and periods where it is decreasing, which Dwyer and Raftery (1991) argue is linked to the state of social relations in the workplace, with trade unionisation tending to decrease accidents, and factors leading to higher labour productivity, such as overtime, tending to cause an increase in accident rates.\n",
    "\n",
    "During this project, I will attempt to identify such change points in the disaster rate, without commenting on what may have caused them.\n"
   ]
  },
  {
   "cell_type": "code",
   "execution_count": 1,
   "metadata": {
    "vscode": {
     "languageId": "r"
    }
   },
   "outputs": [
    {
     "data": {
      "text/html": [
       "<table class=\"dataframe\">\n",
       "<caption>A data.frame: 6 × 1</caption>\n",
       "<thead>\n",
       "\t<tr><th></th><th scope=col>date</th></tr>\n",
       "\t<tr><th></th><th scope=col>&lt;dbl&gt;</th></tr>\n",
       "</thead>\n",
       "<tbody>\n",
       "\t<tr><th scope=row>1</th><td>1851.203</td></tr>\n",
       "\t<tr><th scope=row>2</th><td>1851.632</td></tr>\n",
       "\t<tr><th scope=row>3</th><td>1851.969</td></tr>\n",
       "\t<tr><th scope=row>4</th><td>1851.975</td></tr>\n",
       "\t<tr><th scope=row>5</th><td>1852.314</td></tr>\n",
       "\t<tr><th scope=row>6</th><td>1852.347</td></tr>\n",
       "</tbody>\n",
       "</table>\n"
      ],
      "text/latex": [
       "A data.frame: 6 × 1\n",
       "\\begin{tabular}{r|l}\n",
       "  & date\\\\\n",
       "  & <dbl>\\\\\n",
       "\\hline\n",
       "\t1 & 1851.203\\\\\n",
       "\t2 & 1851.632\\\\\n",
       "\t3 & 1851.969\\\\\n",
       "\t4 & 1851.975\\\\\n",
       "\t5 & 1852.314\\\\\n",
       "\t6 & 1852.347\\\\\n",
       "\\end{tabular}\n"
      ],
      "text/markdown": [
       "\n",
       "A data.frame: 6 × 1\n",
       "\n",
       "| <!--/--> | date &lt;dbl&gt; |\n",
       "|---|---|\n",
       "| 1 | 1851.203 |\n",
       "| 2 | 1851.632 |\n",
       "| 3 | 1851.969 |\n",
       "| 4 | 1851.975 |\n",
       "| 5 | 1852.314 |\n",
       "| 6 | 1852.347 |\n",
       "\n"
      ],
      "text/plain": [
       "  date    \n",
       "1 1851.203\n",
       "2 1851.632\n",
       "3 1851.969\n",
       "4 1851.975\n",
       "5 1852.314\n",
       "6 1852.347"
      ]
     },
     "metadata": {},
     "output_type": "display_data"
    }
   ],
   "source": [
    "library(boot)\n",
    "data(coal)\n",
    "head(coal) # data consists of list of dates of each disaster"
   ]
  },
  {
   "cell_type": "code",
   "execution_count": 2,
   "metadata": {
    "vscode": {
     "languageId": "r"
    }
   },
   "outputs": [],
   "source": [
    "year <- floor(min(coal$date)) : floor(max(coal$date)) # disasters between 1851-1962\n",
    "n = length(year) # 112 years in data set (with varying numbers of disasters per year)\n",
    "\n",
    "# y = number of disasters in each year\n",
    "y <- tabulate(floor(coal[[1]]))\n",
    "y <- y[year]"
   ]
  },
  {
   "cell_type": "code",
   "execution_count": 3,
   "metadata": {
    "vscode": {
     "languageId": "r"
    }
   },
   "outputs": [
    {
     "data": {
      "image/png": "[encoded data removed]",
      "text/plain": [
       "Plot with title \"paste(\"Disaster rate over time\")\""
      ]
     },
     "metadata": {
      "image/png": {
       "height": 240,
       "width": 540
      }
     },
     "output_type": "display_data"
    }
   ],
   "source": [
    "options(repr.plot.width=9, repr.plot.height=4) # set plot size\n",
    "layout(matrix(c(1,2), nrow=1)) # figure with 2 plots\n",
    "barplot(\n",
    "    height=y, names=year,\n",
    "    xlab=\"Year\", ylab=expression(paste(\"Number of disasters\")),\n",
    "    main=expression(paste(\"Mining disasters per year\"))\n",
    ")\n",
    "plot(\n",
    "    x=year, y=cumsum(y), type=\"l\",\n",
    "    xlab=\"Year\", ylab=expression(paste(\"Cumulative disaster count\")),\n",
    "    main=expression(paste(\"Disaster rate over time\"))\n",
    ")"
   ]
  },
  {
   "cell_type": "markdown",
   "metadata": {},
   "source": [
    "**Figure 1**: *Plots showing the number of coal mining disasters each year (left), and the coal mining disaster rate over time (right), for the period 1851 to 1962. The plots show a higher number of disasters per year at the start of the period, with a relatively constant disaster rate during up until around 1890, after which the disaster rate decreased significantly. After this, there are a number of periods where the disaster rate increases, before again decreasing. In this project, I will attempt to locate change points in the disaster rate statistically, using Bayesian inference.*"
   ]
  },
  {
   "cell_type": "markdown",
   "metadata": {},
   "source": [
    "### Constructing a model for the disaster rate, $\\lambda_i$"
   ]
  },
  {
   "cell_type": "markdown",
   "metadata": {},
   "source": [
    "To model the disaster rate, I will consider the number of mining disasters in year $i$, as coming from a Poisson process with an unknown rate $\\lambda_i$.\n",
    "\n",
    "For the simplest case, assuming a constant disaster rate with no change points, the number of disasters in year $i$, can be described by:\n",
    "\n",
    "$y_i \\sim \\text{Poisson}(\\lambda), \\quad \\text{for }i=1851,...,1962$\n",
    "\n",
    "This simplest model corresponds to a straight line through the data, which we can see from the plots in Figure 1 is not a good fit for the data. To improve the fit, I will consider models with an increasing number of change points, where the disaster rate $\\lambda$ is different between each change point."
   ]
  },
  {
   "cell_type": "markdown",
   "metadata": {},
   "source": [
    "For the case with 1 change point at year $T$, the number of disasters in year $i$ can be modelled by:\n",
    "\n",
    "$y_i = \\begin{cases}\n",
    "    \\text{Poisson}(\\lambda_1)    & \\quad    \\text{for } i \\lt T \\\\\n",
    "    \\text{Poisson}(\\lambda_2)    & \\quad    \\text{for } i \\ge T\n",
    "\\end{cases}$\n",
    "\n",
    "where $\\lambda_1$ and $\\lambda_2$ represent the disaster rate before and after the change point at time $T$"
   ]
  },
  {
   "cell_type": "markdown",
   "metadata": {},
   "source": [
    "For the case with two change points at T_1,T_2, the number of disasters in year i can be modelled by:\n",
    "\n",
    "$y_i = \\begin{cases}\n",
    "    \\text{Poisson}(\\lambda_1)    & \\quad    \\text{for } i = 1851,...,(T_1 - 1) \\\\\n",
    "    \\text{Poisson}(\\lambda_2)    & \\quad    \\text{for } i = T_1,...,(T_2 - 1) \\\\\n",
    "    \\text{Poisson}(\\lambda_3)    & \\quad    \\text{for } i = T_2,...,1862 \\\\\n",
    "\\end{cases}$\n",
    "\n",
    "And so on, for increasing numbers of change points.\n",
    "\n",
    "The number of years in the dataset is given by $N = 112$, so the maximum possible number of change-points is $N-1 = 111$."
   ]
  },
  {
   "cell_type": "markdown",
   "metadata": {},
   "source": [
    "#### Prior selection"
   ]
  },
  {
   "cell_type": "markdown",
   "metadata": {},
   "source": [
    "Bayesian statistics starts with a model of our prior belief about the likelihood of an event, which we then update using data, to return an updated posterior belief, which blends our observations with our original assumptions.\n",
    "\n",
    "Once we've carefully chosen our prior distribution, $p(\\theta)$, representing our prior belief about the probability distribution of the parameters in out model, $\\theta$, we can calculate the posterior distribution given the data, $p(\\theta | D)$, as follows:\n",
    "\n",
    "$p(\\theta | D) = \\cfrac{p(D|\\theta)p(\\theta)}{p(D)} = \\cfrac{p(D|\\theta)p(\\theta)}{\\int p(D|\\theta)p(\\theta) \\; \\mathrm{d}\\theta} = \\cfrac{\\text{likelihood} \\times \\text{prior}}{\\text{evidence}}$"
   ]
  },
  {
   "cell_type": "markdown",
   "metadata": {},
   "source": [
    "I will assume an ordered uniform prior on change point year $T=(T_1,\\ldots,T_N)$, representing an assumption that all possible combinations of change points are equally likely, as given by:\n",
    "\n",
    "$P(T_1,\\ldots,T_N) = \\begin{cases}\n",
    "    \\displaystyle\\binom{111}{N}^{-1} & \\text{for\\ }1851 < T_1 < T_2 < \\ldots < T_N \\le 1962 \\\\\n",
    "    \\quad0 & \\text{otherwise}\n",
    "\\end{cases}$"
   ]
  },
  {
   "cell_type": "markdown",
   "metadata": {},
   "source": [
    "Finally I will assume $\\text{Gamma}(\\alpha=2, \\beta=1)$ priors on all $\\lambda_i$. \n",
    "\n",
    "$p(\\lambda_i) \\sim Ga(2,1)$\n",
    "\n",
    "Therefore the prior probability density of each $\\lambda_i$ is given by:\n",
    "\n",
    "$p(\\lambda_i) = \n",
    "  \\cfrac{\\beta^{\\alpha} \\lambda_i^{\\alpha-1} e^{-\\beta \\lambda_i}}{\\Gamma(\\alpha)} =\n",
    "  \\cfrac{1^{2} \\lambda_i^{2-1} e^{-1 \\lambda_i}}{\\Gamma(2)} =\n",
    "  \\cfrac{\\lambda_i e^{-\\lambda_i}}{1} =\n",
    "  \\lambda_i e^{-\\lambda_i}$\n",
    "\n",
    "Using gamma priors on $\\lambda_i$ will simplify our calculations since the Gamma distribution is conjugate to our Poisson likelihood, and is an appropriate choice for our non-negative continuous data."
   ]
  },
  {
   "cell_type": "markdown",
   "metadata": {},
   "source": [
    "## Modelling a constant disaster rate"
   ]
  },
  {
   "cell_type": "markdown",
   "metadata": {},
   "source": [
    "### Calculating the posterior analytically"
   ]
  },
  {
   "cell_type": "markdown",
   "metadata": {},
   "source": [
    "For the simplest case, with no change-points, we can calculate the posterior distribution of the disaster rate $\\lambda$ analytically, using conjugate updates, as outlined below:\n",
    "\n",
    "$p(\\lambda \\mid y_{(1:N), \\alpha, \\beta}) \n",
    "    \\;\\propto\\; p(y_{(1:N)} \\mid \\lambda) \\times p(\\lambda \\mid \\alpha, \\beta)$\n",
    "\n",
    "$\\qquad\\qquad\\qquad\\;\\;\\; \n",
    "    \\propto\\; \\text{Poisson}(y_{(1:N)} \\mid \\lambda) \\times \\text{Gamma}(\\lambda \\mid \\alpha, \\beta)$\n",
    "\n",
    "$\\qquad\\qquad\\qquad\\;\\;\\; \n",
    "    \\propto\\; \\text{Gamma} \\left( \\alpha + \\displaystyle\\sum_{i=1}^{N} y_i, \\; \\beta + N \\right)$"
   ]
  },
  {
   "cell_type": "code",
   "execution_count": 4,
   "metadata": {
    "vscode": {
     "languageId": "r"
    }
   },
   "outputs": [],
   "source": [
    "# log prior\n",
    "log_prior <- function(lambda) {\n",
    "    return(dgamma(lambda, 2, 1, log=TRUE))\n",
    "}\n",
    "# log likelihood\n",
    "log_likelihood <- function(Y, lambda) {\n",
    "    return(sum(dpois(Y, lambda, log=TRUE)))\n",
    "}\n",
    "# log posterior\n",
    "a <- 2\n",
    "b <- 1\n",
    "log_posterior <- function(Y, lambda) {\n",
    "    return(dgamma(lambda, a + sum(Y), b + length(Y)))\n",
    "}"
   ]
  },
  {
   "cell_type": "code",
   "execution_count": 5,
   "metadata": {
    "vscode": {
     "languageId": "r"
    }
   },
   "outputs": [],
   "source": [
    "# evaluating analytical posterior density\n",
    "lambda_grid <- seq(0, 10, 0.01) # for values of lambda between 0-10\n",
    "lambda_post <- lambda_grid\n",
    "for (i in 1:length(lambda_grid)) {\n",
    "    lambda_post[i] <- exp(log_posterior(y, lambda_grid[i]))\n",
    "}"
   ]
  },
  {
   "cell_type": "markdown",
   "metadata": {},
   "source": [
    "The prior, posterior and predictive distributions for $\\lambda$, in the no-change point case, are shown plotted in Figure 2 below. Our posterior has focused in around a most likely value of $\\lambda$ somewhere between 1.5 and 2, and has diverged substantially from the prior, so we've learned a lot from our data.\n",
    "\n",
    "However plotting our predicted disaster rate against the observed data, we can see that this model doesn't fit the data well, with most of the observations falling outside of the 95% predictive interval. This is what we expected to see, and is why we want to introduce change points in the disaster rate."
   ]
  },
  {
   "cell_type": "code",
   "execution_count": 6,
   "metadata": {
    "vscode": {
     "languageId": "r"
    }
   },
   "outputs": [
    {
     "data": {
      "image/png": "[encoded data removed]",
      "text/plain": [
       "Plot with title \"Predicted disaster rate against observations\""
      ]
     },
     "metadata": {
      "image/png": {
       "height": 240,
       "width": 720
      }
     },
     "output_type": "display_data"
    }
   ],
   "source": [
    "layout(matrix(c(1,2,3), nrow=1)) # figure with 3 plots\n",
    "options(repr.plot.width=12, repr.plot.height=4) # set plot size\n",
    "\n",
    "# plot of prior distribution of lambda\n",
    "lambda_grid <- seq(0, max(y), by=0.1) # define sequence of possible values for lambda\n",
    "plot(\n",
    "    lambda_grid, exp(log_prior(lambda_grid)), type=\"l\",\n",
    "    xlab=expression(lambda),\n",
    "    ylab=expression(paste(\"Prior Density\")),\n",
    "    main=expression(paste(\"Prior Distribution of \",lambda))\n",
    ")\n",
    "\n",
    "# plot posterior distribution of lambda\n",
    "plot(\n",
    "    lambda_grid, log_posterior(y, lambda_grid), type=\"l\",\n",
    "    xlab=expression(lambda),\n",
    "    ylab=expression(paste(\"Posterior Density\")),\n",
    "    main=expression(paste(\"Posterior Distribution of \",lambda))\n",
    ")\n",
    "\n",
    "# plot observed data against 95% posterior prediction interval\n",
    "predictive_interval_analytical <- function(title){\n",
    "    lambda_CI <- c(\n",
    "        qgamma(0.025, a + sum(y), b + length(y)),\n",
    "        qgamma(0.975, a + sum(y), b + length(y))\n",
    "    )\n",
    "    lambda_median <- qgamma(0.5, a + sum(y), b + length(y))\n",
    "    plot(\n",
    "        x=year, y=cumsum(y), type=\"l\",\n",
    "        xlab=\"Year\", ylab=expression(paste(\"Disaster count\")),\n",
    "        main=title, font.main=1\n",
    "    )\n",
    "    polygon(\n",
    "        c(year[1], year[n], year[n], year[1]),\n",
    "        c(1, lambda_CI[2]*n, lambda_CI[1]*n, 1),\n",
    "        col=adjustcolor(\"green\", alpha.f=0.25),\n",
    "        border=NA\n",
    "    )\n",
    "    lines(x=year, y=lambda_median * 1:length(year), col=\"red\", lty=2)\n",
    "\n",
    "    # add legend\n",
    "    legend(\"topleft\", #inset = 0.1,\n",
    "        c(\"Prediction Median\",\"95% Prediction Interval\",\"Observations\"), # labels\n",
    "        col=c(\"red\",\"green\",\"black\"), # line colours\n",
    "        lty=c(2, 1, 1), # line types\n",
    "        lwd=c(2, 5, 2), # line widths\n",
    "        y.intersp=2, # increase spacing\n",
    "        bty=\"n\") # remove border\n",
    "}\n",
    "predictive_interval_analytical(\"Predicted disaster rate against observations\")"
   ]
  },
  {
   "cell_type": "markdown",
   "metadata": {},
   "source": [
    "**Figure 2**: *Prior, posterior and predictive plots for the model with 0 change-points, calculated analytically. The first two panels show the prior (left) and posterior (mid) of the accident rate $\\lambda$. The final panel (right) shows the predictive distribution of $y_i$, plotted against the observed data, with the predicted median value in red, and a 95% prediction interval highlighted green. The data mostly falls outside the 95% prediction interval, so this model does not explain the data well.*"
   ]
  },
  {
   "cell_type": "markdown",
   "metadata": {},
   "source": [
    "### Metropolis-Hasting Sampler for constant disaster rate"
   ]
  },
  {
   "cell_type": "markdown",
   "metadata": {},
   "source": [
    "The Metropolis-Hastings algorithm (Hastings 1970) is a Monte Carlo Markov Chain (MCMC) dependent sampling algorithm, based on running a number of independent Markov chains, which each perform a random walk over the parameter space.\n",
    "\n",
    "At each iteration of the algorithm, new steps are accepted into the posterior based on a probabilistic comparison with the previous step. If constructed correctly, this means that once a Markov chain has found the posterior distribution, it should move around but not significantly beyond the posterior, so that the independent chains converge on the posterior distribution. \n",
    "\n",
    "I started by building a Metropolis-Hastings samplers for the simplest case with 0 change points, so that I could compare the results against the analytically calculated posterior, before extending the model to 1 or more change points.\n",
    "\n",
    "For my implementation of Metropolis-Hastings, I used a normal distribution for the proposal step, and found that a standard deviation of 0.2 provided good performance, with an acceptance rate around 56% (this is a good level of acceptance for our problem, balancing the efficiency and thoroughness of the search).\n",
    "\n",
    "I used log transformations on the prior, posterior and likelihood functions to increase the efficiency of the algorithm, and ran 4 independent Markov chains, running 100,000 samples in each."
   ]
  },
  {
   "cell_type": "code",
   "execution_count": 7,
   "metadata": {
    "vscode": {
     "languageId": "r"
    }
   },
   "outputs": [
    {
     "name": "stdout",
     "output_type": "stream",
     "text": [
      "[1] 56.358 56.348 56.514 56.403\n"
     ]
    }
   ],
   "source": [
    "# Metropolis sampler for the log posterior\n",
    "m <- 100000 # number of samples\n",
    "lambda <- matrix(0, nrow=m, ncol=4) # init 4 chains of m samples\n",
    "lambda[1,] <- rgamma(4, 2, 1) # start chains with random draws from Gamma(2,1) lambda prior\n",
    "accepted <- rep(1,4) # counter for calculating acceptance rate\n",
    "for (step in 2:m) {\n",
    "    for(chain in 1:4){\n",
    "        proposed <- rnorm(1, lambda[step-1, chain], 0.2)\n",
    "        if (proposed >= 0) {\n",
    "            r <- exp(log_prior(proposed) + log_likelihood(y,proposed) - log_prior(lambda[step-1, chain]) - log_likelihood(y,lambda[step-1, chain]))\n",
    "        } else {\n",
    "            r <- 0\n",
    "        }\n",
    "        u <- runif(1)\n",
    "        if (u < r) {\n",
    "            accepted[chain] <- accepted[chain] + 1 # increment accepted count\n",
    "            lambda[step, chain] <- proposed\n",
    "        } else {\n",
    "            lambda[step, chain] <- lambda[step-1, chain]\n",
    "        }\n",
    "    }\n",
    "}\n",
    "print(accepted/m*100) # print acceptance rate"
   ]
  },
  {
   "cell_type": "markdown",
   "metadata": {},
   "source": [
    "#### Convergence\n",
    "\n",
    "The biggest problem with the Metropolis-Hastings algorithm is that although in theory, if correctly constructed, the chains are guaranteed to converge eventually, it is not possible to know for certain when or if the chains have converged, and for complex multi-modal distributions where high-density regions are connected by areas of very low probability, it can appear that the chains have converged, when in fact large areas of the posterior have not yet been explored.\n",
    "\n",
    "In this example, we are able to plot our sampled posterior predictive distributions against the observed data, making it simple to compare visually, even with increasing numbers of parameters. However I will also check the Trace plots, and consider the Gelman-Rubin statistic, proposed by Gelman and Rubin (1992), which compares the variance within chains to the variance between chains, to assess the convergence of chains. When this statistic is close to 1, the difference between the variance within and between chains is small, giving support for the chains having converged, although we can never be certain."
   ]
  },
  {
   "cell_type": "markdown",
   "metadata": {},
   "source": [
    "##### Trace plots"
   ]
  },
  {
   "cell_type": "markdown",
   "metadata": {},
   "source": [
    "As shown below, the trace plots for each chain look healthy with good mixing, and the chains appeared to converge quickly after a short burn-in."
   ]
  },
  {
   "cell_type": "code",
   "execution_count": 8,
   "metadata": {
    "vscode": {
     "languageId": "r"
    }
   },
   "outputs": [
    {
     "name": "stderr",
     "output_type": "stream",
     "text": [
      "Loading required package: coda\n",
      "\n"
     ]
    }
   ],
   "source": [
    "require(coda)\n",
    "\n",
    "# convert chains into mcmc objects (single chain per object, each col = single variable)\n",
    "mcmc_1 <- mcmc(lambda[,1])\n",
    "mcmc_2 <- mcmc(lambda[,2])\n",
    "mcmc_3 <- mcmc(lambda[,3])\n",
    "mcmc_4 <- mcmc(lambda[,4])\n",
    "\n",
    "varnames(mcmc_1) <- \"Chain 1\"\n",
    "varnames(mcmc_2) <- \"Chain 2\"\n",
    "varnames(mcmc_3) <- \"Chain 3\"\n",
    "varnames(mcmc_4) <- \"Chain 4\""
   ]
  },
  {
   "cell_type": "code",
   "execution_count": 9,
   "metadata": {
    "vscode": {
     "languageId": "r"
    }
   },
   "outputs": [
    {
     "data": {
      "image/png": "[encoded data removed]",
      "text/plain": [
       "Plot with title \"Density of Chain 1\""
      ]
     },
     "metadata": {
      "image/png": {
       "height": 180,
       "width": 420
      }
     },
     "output_type": "display_data"
    },
    {
     "data": {
      "image/png": "[encoded data removed]",
      "text/plain": [
       "Plot with title \"Density of Chain 2\""
      ]
     },
     "metadata": {
      "image/png": {
       "height": 180,
       "width": 420
      }
     },
     "output_type": "display_data"
    },
    {
     "data": {
      "image/png": "[encoded data removed]",
      "text/plain": [
       "Plot with title \"Density of Chain 3\""
      ]
     },
     "metadata": {
      "image/png": {
       "height": 180,
       "width": 420
      }
     },
     "output_type": "display_data"
    },
    {
     "data": {
      "image/png": "[encoded data removed]",
      "text/plain": [
       "Plot with title \"Density of Chain 4\""
      ]
     },
     "metadata": {
      "image/png": {
       "height": 180,
       "width": 420
      }
     },
     "output_type": "display_data"
    }
   ],
   "source": [
    "# plot traces and densities for each chain\n",
    "options(repr.plot.width=7, repr.plot.height=3) # set plot size\n",
    "\n",
    "plot(mcmc_1)\n",
    "plot(mcmc_2)\n",
    "plot(mcmc_3)\n",
    "plot(mcmc_4)"
   ]
  },
  {
   "cell_type": "code",
   "execution_count": 10,
   "metadata": {
    "vscode": {
     "languageId": "r"
    }
   },
   "outputs": [
    {
     "data": {
      "image/png": "[encoded data removed]",
      "text/plain": [
       "Plot with title \"paste(\"Partial traces of four independent Markov chains\")\""
      ]
     },
     "metadata": {
      "image/png": {
       "height": 270,
       "width": 720
      }
     },
     "output_type": "display_data"
    }
   ],
   "source": [
    "# plot first 2000 iterations of each chain\n",
    "i = 1\n",
    "j = 2000\n",
    "options(repr.plot.width=12, repr.plot.height=4.5) # set plot size\n",
    "plot(\n",
    "    i:j, lambda[i:j, 1], type=\"l\", col=2,\n",
    "    main = expression(paste(\"Partial traces of four independent Markov chains\")),\n",
    "    xlab = \"Iteration\", ylab = expression(lambda)\n",
    ")\n",
    "lines(i:j, lambda[i:j, 2], type=\"l\", col=3)\n",
    "lines(i:j, lambda[i:j, 3], type=\"l\", col=4)\n",
    "lines(i:j, lambda[i:j, 4], type=\"l\", col=5)"
   ]
  },
  {
   "cell_type": "markdown",
   "metadata": {},
   "source": [
    "##### Summary statistics"
   ]
  },
  {
   "cell_type": "markdown",
   "metadata": {},
   "source": [
    "Each chain returned the same mean and median values for $\\lambda$ of 1.71, correct to 2 dp, suggesting that our chains have converged on the true value."
   ]
  },
  {
   "cell_type": "code",
   "execution_count": 11,
   "metadata": {
    "vscode": {
     "languageId": "r"
    }
   },
   "outputs": [
    {
     "data": {
      "text/html": [
       "<strong>Mean:</strong> 1.70707843159014"
      ],
      "text/latex": [
       "\\textbf{Mean:} 1.70707843159014"
      ],
      "text/markdown": [
       "**Mean:** 1.70707843159014"
      ],
      "text/plain": [
       "    Mean \n",
       "1.707078 "
      ]
     },
     "metadata": {},
     "output_type": "display_data"
    },
    {
     "data": {
      "text/html": [
       "<strong>Mean:</strong> 1.70766264050364"
      ],
      "text/latex": [
       "\\textbf{Mean:} 1.70766264050364"
      ],
      "text/markdown": [
       "**Mean:** 1.70766264050364"
      ],
      "text/plain": [
       "    Mean \n",
       "1.707663 "
      ]
     },
     "metadata": {},
     "output_type": "display_data"
    },
    {
     "data": {
      "text/html": [
       "<strong>Mean:</strong> 1.70764181995043"
      ],
      "text/latex": [
       "\\textbf{Mean:} 1.70764181995043"
      ],
      "text/markdown": [
       "**Mean:** 1.70764181995043"
      ],
      "text/plain": [
       "    Mean \n",
       "1.707642 "
      ]
     },
     "metadata": {},
     "output_type": "display_data"
    },
    {
     "data": {
      "text/html": [
       "<strong>Mean:</strong> 1.70759630305898"
      ],
      "text/latex": [
       "\\textbf{Mean:} 1.70759630305898"
      ],
      "text/markdown": [
       "**Mean:** 1.70759630305898"
      ],
      "text/plain": [
       "    Mean \n",
       "1.707596 "
      ]
     },
     "metadata": {},
     "output_type": "display_data"
    }
   ],
   "source": [
    "# mean values for each chain\n",
    "summary(mcmc_1)$statistics[\"Mean\"]\n",
    "summary(mcmc_2)$statistics[\"Mean\"]\n",
    "summary(mcmc_3)$statistics[\"Mean\"]\n",
    "summary(mcmc_4)$statistics[\"Mean\"]"
   ]
  },
  {
   "cell_type": "code",
   "execution_count": 12,
   "metadata": {
    "vscode": {
     "languageId": "r"
    }
   },
   "outputs": [
    {
     "data": {
      "text/html": [
       "<strong>50%:</strong> 1.70453564904668"
      ],
      "text/latex": [
       "\\textbf{50\\textbackslash{}\\%:} 1.70453564904668"
      ],
      "text/markdown": [
       "**50%:** 1.70453564904668"
      ],
      "text/plain": [
       "     50% \n",
       "1.704536 "
      ]
     },
     "metadata": {},
     "output_type": "display_data"
    },
    {
     "data": {
      "text/html": [
       "<strong>50%:</strong> 1.70463847658404"
      ],
      "text/latex": [
       "\\textbf{50\\textbackslash{}\\%:} 1.70463847658404"
      ],
      "text/markdown": [
       "**50%:** 1.70463847658404"
      ],
      "text/plain": [
       "     50% \n",
       "1.704638 "
      ]
     },
     "metadata": {},
     "output_type": "display_data"
    },
    {
     "data": {
      "text/html": [
       "<strong>50%:</strong> 1.70521306891685"
      ],
      "text/latex": [
       "\\textbf{50\\textbackslash{}\\%:} 1.70521306891685"
      ],
      "text/markdown": [
       "**50%:** 1.70521306891685"
      ],
      "text/plain": [
       "     50% \n",
       "1.705213 "
      ]
     },
     "metadata": {},
     "output_type": "display_data"
    },
    {
     "data": {
      "text/html": [
       "<strong>50%:</strong> 1.70534012050175"
      ],
      "text/latex": [
       "\\textbf{50\\textbackslash{}\\%:} 1.70534012050175"
      ],
      "text/markdown": [
       "**50%:** 1.70534012050175"
      ],
      "text/plain": [
       "    50% \n",
       "1.70534 "
      ]
     },
     "metadata": {},
     "output_type": "display_data"
    }
   ],
   "source": [
    "# median values for each chain\n",
    "summary(mcmc_1)$quantiles[3]\n",
    "summary(mcmc_2)$quantiles[3]\n",
    "summary(mcmc_3)$quantiles[3]\n",
    "summary(mcmc_4)$quantiles[3]"
   ]
  },
  {
   "cell_type": "markdown",
   "metadata": {},
   "source": [
    "##### Gelman-Rubin Diagnostic"
   ]
  },
  {
   "cell_type": "markdown",
   "metadata": {},
   "source": [
    "As shown below, Gelman-Rubin Diagnostic returned for my chains is very close to 1, providing good support for the chains having converged."
   ]
  },
  {
   "cell_type": "code",
   "execution_count": 13,
   "metadata": {
    "vscode": {
     "languageId": "r"
    }
   },
   "outputs": [
    {
     "data": {
      "text/html": [
       "<table class=\"dataframe\">\n",
       "<caption>A matrix: 1 × 2 of type dbl</caption>\n",
       "<thead>\n",
       "\t<tr><th scope=col>Point est.</th><th scope=col>Upper C.I.</th></tr>\n",
       "</thead>\n",
       "<tbody>\n",
       "\t<tr><td>1</td><td>1.000018</td></tr>\n",
       "</tbody>\n",
       "</table>\n"
      ],
      "text/latex": [
       "A matrix: 1 × 2 of type dbl\n",
       "\\begin{tabular}{ll}\n",
       " Point est. & Upper C.I.\\\\\n",
       "\\hline\n",
       "\t 1 & 1.000018\\\\\n",
       "\\end{tabular}\n"
      ],
      "text/markdown": [
       "\n",
       "A matrix: 1 × 2 of type dbl\n",
       "\n",
       "| Point est. | Upper C.I. |\n",
       "|---|---|\n",
       "| 1 | 1.000018 |\n",
       "\n"
      ],
      "text/plain": [
       "     Point est. Upper C.I.\n",
       "[1,] 1          1.000018  "
      ]
     },
     "metadata": {},
     "output_type": "display_data"
    },
    {
     "data": {
      "text/html": [
       "1.00001767608491"
      ],
      "text/latex": [
       "1.00001767608491"
      ],
      "text/markdown": [
       "1.00001767608491"
      ],
      "text/plain": [
       "[1] 1.000018"
      ]
     },
     "metadata": {},
     "output_type": "display_data"
    }
   ],
   "source": [
    "# Gelman-Rubin Statistic\n",
    "chainlist <- mcmc.list(\n",
    "    Chain1=mcmc(lambda[,1]),\n",
    "    Chain2=mcmc(lambda[,2]),\n",
    "    Chain3=mcmc(lambda[,3]),\n",
    "    Chain4=mcmc(lambda[,4])\n",
    ")\n",
    "gelman.diag(chainlist)$psrf # potential scale reduction factor\n",
    "as.numeric(gelman.diag(chainlist)$psrf[1,2]) # if this value is close to 1, this suggests the chains have converged"
   ]
  },
  {
   "cell_type": "markdown",
   "metadata": {},
   "source": [
    "##### Predictive Distribution"
   ]
  },
  {
   "cell_type": "code",
   "execution_count": 14,
   "metadata": {
    "vscode": {
     "languageId": "r"
    }
   },
   "outputs": [],
   "source": [
    "# Use direct sampling from our sampled posterior, to check if your predictions look correct\n",
    "\n",
    "# remove first 1000 iterations as burn-in\n",
    "post_sample <- lambda[1000:m,]\n",
    "\n",
    "# draw from the posterior predictive distribution\n",
    "pred_sample <- matrix(0, nrow=length(post_sample), ncol=length(year)) # sample for each year\n",
    "for (i in 1:length(post_sample)) {\n",
    "    pred_sample[i,] <- cumsum(rpois(length(year), post_sample[i])) # sample from poisson, using lambda from sample\n",
    "}\n",
    "\n",
    "# evaluate posterior predictive quantiles\n",
    "pred_sample_quantiles <- matrix(0, nrow=3, ncol=length(year))\n",
    "for (i in 1:length(year)) {\n",
    "    pred_sample_quantiles[,i] <- quantile(pred_sample[,i], probs=c(0.025,0.5,0.975))\n",
    "}"
   ]
  },
  {
   "cell_type": "code",
   "execution_count": 15,
   "metadata": {
    "vscode": {
     "languageId": "r"
    }
   },
   "outputs": [
    {
     "data": {
      "image/png": "[encoded data removed]",
      "text/plain": [
       "Plot with title \"paste(\"Sampled predictive posterior\")\""
      ]
     },
     "metadata": {
      "image/png": {
       "height": 270,
       "width": 600
      }
     },
     "output_type": "display_data"
    }
   ],
   "source": [
    "layout(matrix(c(1,2), nrow=1)) # figure with 3 plots\n",
    "options(repr.plot.width=10, repr.plot.height=4.5) # set plot size\n",
    "\n",
    "# plot analytical predictive distribution\n",
    "predictive_interval_analytical(title=\"Analytical predictive posterior\")\n",
    "\n",
    "# plot sampled predictive distribution\n",
    "plot(\n",
    "    x=year, y=cumsum(y), type=\"l\",\n",
    "    xlab=\"Year\", ylab=expression(paste(\"Disaster count\")),\n",
    "    main=expression(paste(\"Sampled predictive posterior\"))\n",
    ")\n",
    "lines(year, pred_sample_quantiles[2,],col=\"red\", lty=2)\n",
    "polygon(\n",
    "    c(year[1], year[n], year[n], year[1]),\n",
    "    c(pred_sample_quantiles[1,1], pred_sample_quantiles[1,n], pred_sample_quantiles[3,n], pred_sample_quantiles[3,1]),\n",
    "    col=adjustcolor(\"green\", alpha.f=0.25),\n",
    "    border=NA\n",
    ")\n",
    "legend(\"topleft\", #inset = 0.1,\n",
    "    c(\"Prediction Median\",\"95% Prediction Interval\",\"Observations\"), # labels\n",
    "    col=c(\"red\",\"green\",\"black\"), # line colours\n",
    "    lty=c(2, 1, 1), # line types\n",
    "    lwd=c(2, 5, 2), # line widths\n",
    "    y.intersp=2, # increase spacing\n",
    "    bty=\"n\") # remove border"
   ]
  },
  {
   "cell_type": "markdown",
   "metadata": {},
   "source": [
    "The predictive distribution calculated by my sampler (right) is very similar to that calculated analytically (left)."
   ]
  },
  {
   "cell_type": "markdown",
   "metadata": {},
   "source": [
    "##### Compare sampled vs analytical distribution of $\\lambda$"
   ]
  },
  {
   "cell_type": "markdown",
   "metadata": {},
   "source": [
    "Finally my sampler produced results comparable to computing the posterior analytically, as shown below."
   ]
  },
  {
   "cell_type": "code",
   "execution_count": 16,
   "metadata": {
    "vscode": {
     "languageId": "r"
    }
   },
   "outputs": [
    {
     "data": {
      "image/png": "[encoded data removed]",
      "text/plain": [
       "Plot with title \"paste(\"Sampled posterior density of \", lambda)\""
      ]
     },
     "metadata": {
      "image/png": {
       "height": 300,
       "width": 300
      }
     },
     "output_type": "display_data"
    }
   ],
   "source": [
    "# plot sample as density histogram\n",
    "options(repr.plot.width=5, repr.plot.height=5) # set plot size\n",
    "hist(\n",
    "    post_sample, prob=T, col=\"grey\", breaks=100,\n",
    "    main = expression(paste(\"Sampled posterior density of \",lambda)),\n",
    "    xlab = expression(lambda),\n",
    "    ylab = expression(paste(\"p(\",lambda,\"|y)\")),\n",
    "    ylim=c(0,4)\n",
    ")\n",
    "# add line for analytical density of posterior = Gamma(2 + sum(y_i), 1 + n)\n",
    "lambda_grid <- seq(0, max(y), by=0.01) # sequence of possible values for lambda\n",
    "lines(\n",
    "    x=lambda_grid,\n",
    "    y=log_posterior(y, lambda_grid),\n",
    "    col=\"green\", lwd=2\n",
    ")\n",
    "# add legend\n",
    "legend(\"topleft\", #inset = 0.1,\n",
    "    c(\"Sample approximation\",\"Analytical density\"), # labels\n",
    "    col=c(\"grey\",\"green\"), # line colours\n",
    "    lty=c(1, 1), # line types\n",
    "    lwd=c(4, 2.5), # line widths\n",
    "    y.intersp=2, # increase spacing\n",
    "    bty=\"n\") # remove border "
   ]
  },
  {
   "cell_type": "markdown",
   "metadata": {},
   "source": [
    "However, whilst this shows that my sampler provides a good approximation of the posterior for 0 change points, we've already seen that the 0 change point model doesn't describe the data well, so we will now start adding change points into our model."
   ]
  },
  {
   "cell_type": "markdown",
   "metadata": {},
   "source": [
    "## One change-point model"
   ]
  },
  {
   "cell_type": "markdown",
   "metadata": {},
   "source": [
    "To increase the fit of the model, I'll now consider the case where we allow for a single change point in the disaster rate at year $T$, and use Bayesian inference to infer the most likely change point year, and the disaster rate before and after the disaster rate, $\\lambda_1,\\lambda_2$.\n",
    "\n",
    "For the one-change point model, we want to infer 3 parameters, $\\lambda_1, \\lambda_2, T$, and the joint posterior distribution is given by:"
   ]
  },
  {
   "cell_type": "markdown",
   "metadata": {},
   "source": [
    "$p(\\lambda_1, \\lambda_2, T \\mid y_{(1:N)}, \\alpha, \\beta) \\; \\propto \\; \n",
    "    p(y_{(1:T-1)} \\mid \\lambda_1) \\times p(\\lambda_1 \\mid \\alpha, \\beta) \\times \n",
    "    p(y_{(T:N)} \\mid \\lambda_2) \\times p(\\lambda_2 \\mid \\alpha, \\beta) \\times \n",
    "    p(T)$\n",
    "\n",
    "$\\qquad\\qquad\\qquad\\qquad\\qquad\\;\\;\\, \\propto \\; \n",
    "    \\text{Poi}(y_{(1:T-1)} \\mid \\lambda_1) \\times \\text{Ga}(\\lambda_1 \\mid \\alpha, \\beta) \\times\n",
    "    \\text{Poi}(y_{(T:N)} \\mid \\lambda_2) \\times \\text{Ga}(\\lambda_2 \\mid \\alpha, \\beta)$\n",
    "\n",
    "$\\qquad\\qquad\\qquad\\qquad\\qquad\\;\\;\\,\\propto\n",
    "    \\displaystyle\\prod_{i=1}^{T-1}\\frac{\\lambda_1^{y_i}e^{-\\lambda_1}}{y_i!}\\ \\times\\ \\prod_{i=T}^{N}\\frac{\\lambda_2^{y_i}e^{-\\lambda_2}}{y_i!}\\ {\\times\\ \\lambda}_1e^{-\\lambda_1}\\ \\times\\ \\lambda_2e^{-\\lambda_2}$\n",
    "\n",
    "\n",
    "$\\qquad\\qquad\\qquad\\qquad\\qquad\\;\\;\\,\\propto\n",
    "    \\displaystyle\\frac{{\\lambda_1}^{\\sum_{i=1}^{T-1}y_i}\\ \\ e^{-(T-1)\\lambda_1}}{\\prod_{i=1}^{T-1}{y_i!}}\\ \\times\\frac{{\\lambda_2}^{\\sum_{i=T}^{N}y_i}\\ \\ e^{-(N-T)\\lambda_2}}{\\prod_{i=T}^{N}{y_i!}}\\ {\\times\\ \\lambda}_1e^{-\\lambda_1}\\ \\times\\ \\lambda_2e^{-\\lambda_2}$\n",
    "\n",
    "$\\qquad\\qquad\\qquad\\qquad\\qquad\\;\\;\\,\\propto\n",
    "    {\\lambda_1}^{\\sum_{i=1}^{T-1}y_i}\\ e^{-(T-1)\\lambda_1}\\ \\times\\ {\\lambda_2}^{\\sum_{i=T}^{N}y_i}\\ \\ e^{-\\left(N-T\\right)\\lambda_2} {\\times\\ \\lambda}_1e^{-\\lambda_1}\\ \\times\\ \\lambda_2e^{-\\lambda_2}$\n",
    "\n",
    "Where we can drop the $P(T)$ term as a constant of proportionality"
   ]
  },
  {
   "cell_type": "markdown",
   "metadata": {},
   "source": [
    "### Gibbs Sampler"
   ]
  },
  {
   "cell_type": "markdown",
   "metadata": {},
   "source": [
    "After struggling to extend my Metropolis-Hastings algorithm beyond the 0 change-point case, I decided to change my approach and attempted to implement a Gibbs sampler for the problem.\n",
    "\n",
    "The Gibbs algorithm, proposed by Geman and Geman (1984), is another MCMC dependent sampling method, which involves running a set of Markov chains, which explore the parameter space, until they converge on the posterior distribution.\n",
    "\n",
    "Instead of proposing a step randomly and deciding if we want to move to it, as we do in the Metropolis-Hastings algorithm, the Gibbs algorithm decides the next step based on the conditional probability of one parameter at a time, holding the others constant at their most recently calculated value, so that we move around the $k$-dimensional parameter space, moving in the $k$-th direction at each step. In a 2-dimensional problem, where we are using Gibbs to infer the density of 2 parameters, this corresponds to moving up and down, or left and right, on a cartesian plane, whereas in a Metropolis-Hastings algorithm we might move in any direction.\n",
    "\n",
    "This means that, in contrast to the Metropolis-Hastings algorithm, all proposed steps are accepted, so it can be a significantly more efficient algorithm for problems where it is possible to construct a Gibbs sampler, and depending on the correlation of variables."
   ]
  },
  {
   "cell_type": "markdown",
   "metadata": {},
   "source": [
    "#### Conditional Distributions for 1 change point"
   ]
  },
  {
   "cell_type": "markdown",
   "metadata": {},
   "source": [
    "To use a Gibbs sampler, we need to be able to define the full conditional distribution of all parameters we want to sample with Gibbs. We will then use these conditional distributions to hold the other parameters constant and sample from one parameter at a time, moving over the $k$-dimensional sample space, where $k$ is the number of parameters we're performing inference on, 3 in the one change-point model."
   ]
  },
  {
   "cell_type": "markdown",
   "metadata": {},
   "source": [
    "Since our gamma priors on $\\lambda_i$ are conjugate to the poisson likelihood, we have:\n",
    "\n",
    "$p(\\lambda_1 \\mid y_{(1:T-1)}, T, \\alpha, \\beta) \\; \\propto \\; \n",
    "    p(y_{(1:T-1)} \\mid \\lambda_1) \\times p(\\lambda_1 \\mid \\alpha, \\beta)$\n",
    "\n",
    "$\\qquad\\qquad\\qquad\\qquad\\;\\;\\,\\, \\propto \\; \n",
    "    \\text{Poi}(y_{(1:T-1)} \\mid \\lambda_1) \\times \\text{Ga}(\\lambda_1 \\mid \\alpha, \\beta)$ \n",
    "\n",
    "$\\qquad\\qquad\\qquad\\qquad\\;\\;\\,\\, \\sim \n",
    "    \\text{Gamma}(\\alpha + \\displaystyle\\sum_{i=1}^{T-1} y_i, \\beta + T - 1)$\n",
    "\n",
    "And similarly:\n",
    "\n",
    "$p(\\lambda_2 \\mid y_{(T:N)}, T, \\alpha, \\beta) \\; \\propto \\; \n",
    "    p(y_{(T:N)} \\mid \\lambda_2) \\times p(\\lambda_2 \\mid \\alpha, \\beta)$\n",
    "\n",
    "$\\qquad\\qquad\\qquad\\qquad\\qquad\\, \\propto \\; \n",
    "    \\text{Poi}(y_{(T:N)} \\mid \\lambda_2) \\times \\text{Ga}(\\lambda_2 \\mid \\alpha, \\beta)$ \n",
    "\n",
    "$\\qquad\\qquad\\qquad\\qquad\\qquad\\, \\sim \n",
    "    \\text{Gamma}(\\alpha + \\displaystyle\\sum_{i=T}^{N} y_i, \\beta + N - T)$"
   ]
  },
  {
   "cell_type": "code",
   "execution_count": 17,
   "metadata": {
    "vscode": {
     "languageId": "r"
    }
   },
   "outputs": [],
   "source": [
    "# return 1 sample of lambda_1, for given values of T,a,b\n",
    "lambda_1_sample <- function(Y, T, a=2, b=1){ # default values from prior\n",
    "    return(rgamma(1, (a + sum(Y[1:(T-1)])), (b + T - 1)))\n",
    "}\n",
    "\n",
    "# return 1 sample of lambda_2, for given values of T,a,b\n",
    "lambda_2_sample <- function(Y, T, a=2, b=1){  # default values from prior\n",
    "    N <- length(Y)\n",
    "    return(rgamma(1, (a + sum(Y[T:N])), (b + N - T)))\n",
    "}"
   ]
  },
  {
   "cell_type": "markdown",
   "metadata": {},
   "source": [
    "Our conditional distribution for $T$ is given by:\n",
    "\n",
    "$p(T \\mid y_{(1:N)}, \\lambda_1, \\lambda_2) \\; \\propto \\; \n",
    "    p(y_{(1:T-1)} \\mid \\lambda_1) \\times p(y_{(T:N)} \\mid \\lambda_2) \\times p(T)$\n",
    "\n",
    "$\\qquad\\qquad\\qquad\\qquad\\;\\, \\propto \\; \n",
    "    \\text{Poi}(y_{(1:T-1)} \\mid \\lambda_1) \\times\n",
    "    \\text{Poi}(y_{(T+1:N)} \\mid \\lambda_2) \\times 1$\n",
    "\n",
    "$\\qquad\\qquad\\qquad\\qquad\\;\\, \\propto \\; \n",
    "    \\displaystyle\\prod_{i=1}^{T-1} \\cfrac{\\lambda_1^{y_i} e^{-\\lambda_1}}{y_i!} \\times \n",
    "    \\displaystyle\\prod_{i=T}^{N} \\cfrac{\\lambda_2^{y_i} e^{-\\lambda_2}}{y_i!}$\n",
    "\n",
    "$\\qquad\\qquad\\qquad\\qquad\\;\\, \\propto \\; \n",
    "    \\cfrac{\\lambda_1^{\\sum_{i=1}^{T-1} y_i} e^{-(T-1) \\lambda_1}}{\\prod_{i=1}^{T-1} y_i!} \\times \n",
    "    \\cfrac{\\lambda_2^{\\sum_{i=T}^{N} y_i} e^{-(N-T) \\lambda_2}}{\\prod_{i=T}^{N} y_i!}$\n",
    "\n",
    "$\\qquad\\qquad\\qquad\\qquad\\;\\, \\propto \\; \n",
    "    \\lambda_1^{\\sum_{i=1}^{T-1} y_i} e^{-(T-1) \\lambda_1} \\times \n",
    "    \\lambda_2^{\\sum_{i=T}^{N} y_i} e^{-(N-T) \\lambda_2} $\n",
    "\n",
    "Note that we're able to drop the $P(T)$ and the $y_i!$ terms in the above as constants of proportionality."
   ]
  },
  {
   "cell_type": "code",
   "execution_count": 18,
   "metadata": {
    "vscode": {
     "languageId": "r"
    }
   },
   "outputs": [],
   "source": [
    "# for each possible value of T in N, return conditional probability of T, for given values of lambda_1 and lambda_2\n",
    "T_conditional <- function(Y, lambda_1, lambda_2){\n",
    "    N <- length(Y)\n",
    "    T_prob <- rep(0, N)\n",
    "    for(T in 1:N){\n",
    "        # probability of change-point at last time step is 0\n",
    "        if (T == N){\n",
    "            T_prob[T] = 0\n",
    "        }else{\n",
    "            T_prob[T] = lambda_1^(sum(Y[1:(T-1)])) * exp(-(T-1)*lambda_1) * lambda_2^(sum(Y[T:N])) * exp(-(N-T)*lambda_2)\n",
    "        }\n",
    "    }\n",
    "    # normalise to return density\n",
    "    return(T_prob / sum(T_prob))\n",
    "}\n",
    "\n",
    "# take sample of n for given values of lambda_1, lambda_2\n",
    "T_sample <- function(Y, lambda_1, lambda_2){\n",
    "    return(\n",
    "        sample(seq(1:length(Y)), 1, prob=T_conditional(Y, lambda_1, lambda_2))\n",
    "    )\n",
    "}"
   ]
  },
  {
   "cell_type": "markdown",
   "metadata": {},
   "source": [
    "##### Gibbs Sampler for 1 change point"
   ]
  },
  {
   "cell_type": "code",
   "execution_count": 40,
   "metadata": {
    "vscode": {
     "languageId": "r"
    }
   },
   "outputs": [
    {
     "data": {
      "text/html": [
       "<style>\n",
       ".list-inline {list-style: none; margin:0; padding: 0}\n",
       ".list-inline>li {display: inline-block}\n",
       ".list-inline>li:not(:last-child)::after {content: \"\\00b7\"; padding: 0 .5ex}\n",
       "</style>\n",
       "<ol class=list-inline><li>2.99886536201118</li><li>1.84817356641625</li><li>104</li></ol>\n"
      ],
      "text/latex": [
       "\\begin{enumerate*}\n",
       "\\item 2.99886536201118\n",
       "\\item 1.84817356641625\n",
       "\\item 104\n",
       "\\end{enumerate*}\n"
      ],
      "text/markdown": [
       "1. 2.99886536201118\n",
       "2. 1.84817356641625\n",
       "3. 104\n",
       "\n",
       "\n"
      ],
      "text/plain": [
       "[1]   2.998865   1.848174 104.000000"
      ]
     },
     "metadata": {},
     "output_type": "display_data"
    }
   ],
   "source": [
    "m <- 100000 # number of samples\n",
    "post_sample <- matrix(nrow=m, ncol=3) # init matrix for chains, with col for each variable we're sampling\n",
    "\n",
    "# initialise chain for each parameter\n",
    "# parameter order: lambda_1, lambda_2, T\n",
    "post_sample[1,] <- c(\n",
    "    rgamma(1, 2, 1),                # lambda_1 from Gamma(2,1)\n",
    "    rgamma(1, 2, 1),                # lambda_2 from Gamma(2,1)\n",
    "    sample.int(n=length(y), size=1) # T from Uniform(1851:1962)\n",
    ")\n",
    "post_sample[1,] # starting values"
   ]
  },
  {
   "cell_type": "code",
   "execution_count": 41,
   "metadata": {
    "vscode": {
     "languageId": "r"
    }
   },
   "outputs": [],
   "source": [
    "# run Gibbs sampler to m iterations\n",
    "for(step in 2:m){\n",
    "    # lambda_1 (using previously calculated T, col 3)\n",
    "    post_sample[step, 1] = lambda_1_sample(Y=y, T=post_sample[(step-1),3], a=2, b=1)\n",
    "\n",
    "    # lambda_2 (using previously calculated T, col 3)\n",
    "    post_sample[step, 2] <- lambda_2_sample(Y=y, T=post_sample[(step-1),3], a=2, b=1)\n",
    "\n",
    "    # T (using lambda_1, lambda_2 calculated in this iteration)\n",
    "    post_sample[step, 3] <- T_sample(Y=y, lambda_1=post_sample[step, 1], lambda_2=post_sample[step, 2])\n",
    "}"
   ]
  },
  {
   "cell_type": "code",
   "execution_count": 42,
   "metadata": {
    "vscode": {
     "languageId": "r"
    }
   },
   "outputs": [],
   "source": [
    "# our approximated posterior is stored in sample\n",
    "colnames(post_sample) <- c(\"lambda_1\", \"lambda_2\", \"T\")\n",
    "post_sample <- as.data.frame(post_sample)"
   ]
  },
  {
   "cell_type": "code",
   "execution_count": 43,
   "metadata": {
    "vscode": {
     "languageId": "r"
    }
   },
   "outputs": [
    {
     "data": {
      "text/html": [
       "<table class=\"dataframe\">\n",
       "<caption>A data.frame: 1 × 4</caption>\n",
       "<thead>\n",
       "\t<tr><th scope=col>median.lambda_1</th><th scope=col>median.lambda_2</th><th scope=col>median.year.number</th><th scope=col>median.year</th></tr>\n",
       "\t<tr><th scope=col>&lt;dbl&gt;</th><th scope=col>&lt;dbl&gt;</th><th scope=col>&lt;dbl&gt;</th><th scope=col>&lt;dbl&gt;</th></tr>\n",
       "</thead>\n",
       "<tbody>\n",
       "\t<tr><td>3.085237</td><td>0.9460311</td><td>41</td><td>1891</td></tr>\n",
       "</tbody>\n",
       "</table>\n"
      ],
      "text/latex": [
       "A data.frame: 1 × 4\n",
       "\\begin{tabular}{llll}\n",
       " median.lambda\\_1 & median.lambda\\_2 & median.year.number & median.year\\\\\n",
       " <dbl> & <dbl> & <dbl> & <dbl>\\\\\n",
       "\\hline\n",
       "\t 3.085237 & 0.9460311 & 41 & 1891\\\\\n",
       "\\end{tabular}\n"
      ],
      "text/markdown": [
       "\n",
       "A data.frame: 1 × 4\n",
       "\n",
       "| median.lambda_1 &lt;dbl&gt; | median.lambda_2 &lt;dbl&gt; | median.year.number &lt;dbl&gt; | median.year &lt;dbl&gt; |\n",
       "|---|---|---|---|\n",
       "| 3.085237 | 0.9460311 | 41 | 1891 |\n",
       "\n"
      ],
      "text/plain": [
       "  median.lambda_1 median.lambda_2 median.year.number median.year\n",
       "1 3.085237        0.9460311       41                 1891       "
      ]
     },
     "metadata": {},
     "output_type": "display_data"
    }
   ],
   "source": [
    "data.frame(\n",
    "    \"median lambda_1\" = median(post_sample$lambda_1),\n",
    "    \"median lambda_2\" = median(post_sample$lambda_2),\n",
    "    \"median year number\" = median(post_sample$T),\n",
    "    \"median year\" = median(post_sample$T) + year[1]-1\n",
    ")"
   ]
  },
  {
   "cell_type": "markdown",
   "metadata": {},
   "source": [
    "##### Checking convergence"
   ]
  },
  {
   "cell_type": "code",
   "execution_count": 44,
   "metadata": {
    "vscode": {
     "languageId": "r"
    }
   },
   "outputs": [
    {
     "data": {
      "image/png": "[encoded data removed]",
      "text/plain": [
       "Plot with title \"Density of Lambda_1\""
      ]
     },
     "metadata": {
      "image/png": {
       "height": 180,
       "width": 540
      }
     },
     "output_type": "display_data"
    },
    {
     "data": {
      "image/png": "[encoded data removed]",
      "text/plain": [
       "Plot with title \"Density of Lambda_2\""
      ]
     },
     "metadata": {
      "image/png": {
       "height": 180,
       "width": 540
      }
     },
     "output_type": "display_data"
    },
    {
     "data": {
      "image/png": "[encoded data removed]",
      "text/plain": [
       "Plot with title \"Density of T\""
      ]
     },
     "metadata": {
      "image/png": {
       "height": 180,
       "width": 540
      }
     },
     "output_type": "display_data"
    }
   ],
   "source": [
    "require(coda)\n",
    "\n",
    "# convert chains into mcmc objects\n",
    "mcmc_lambda_1 <- mcmc(post_sample$lambda_1)\n",
    "mcmc_lambda_2 <- mcmc(post_sample$lambda_2)\n",
    "mcmc_T <- mcmc(post_sample$T)\n",
    "\n",
    "# assign names to mcmc objects\n",
    "varnames(mcmc_lambda_1) <- \"Lambda_1\"\n",
    "varnames(mcmc_lambda_2) <- \"Lambda_2\"\n",
    "varnames(mcmc_T) <- \"T\"\n",
    "\n",
    "options(repr.plot.width=9, repr.plot.height=3) # set plot size\n",
    "plot(mcmc_lambda_1)\n",
    "plot(mcmc_lambda_2)\n",
    "plot(mcmc_T)"
   ]
  },
  {
   "cell_type": "markdown",
   "metadata": {},
   "source": [
    "The traces look like they've converged, and the mostly likey value of change-point $T$ appears around year 41, which is what we see in the data, so this seems reasonable."
   ]
  },
  {
   "cell_type": "markdown",
   "metadata": {},
   "source": [
    "#### Resulting approximated posterior distribution for model with 1 change-point"
   ]
  },
  {
   "cell_type": "code",
   "execution_count": 45,
   "metadata": {
    "vscode": {
     "languageId": "r"
    }
   },
   "outputs": [
    {
     "data": {
      "text/html": [
       "99001"
      ],
      "text/latex": [
       "99001"
      ],
      "text/markdown": [
       "99001"
      ],
      "text/plain": [
       "[1] 99001"
      ]
     },
     "metadata": {},
     "output_type": "display_data"
    }
   ],
   "source": [
    "# remove first 1000 samples as burn-in\n",
    "post_sample_reduced <- post_sample[1000:m,]\n",
    "\n",
    "length(post_sample_reduced[,1]) # remaining samples"
   ]
  },
  {
   "cell_type": "code",
   "execution_count": 46,
   "metadata": {
    "vscode": {
     "languageId": "r"
    }
   },
   "outputs": [
    {
     "data": {
      "text/plain": [
       "\n",
       "   29    30    31    32    33    34    35    36    37    38    39    40    41 \n",
       "    1     2     9    10   234   229   224   813  8845 10335  3805 14737 17958 \n",
       "   42    43    44    45    46    47    48    49    50    51    52    53    54 \n",
       "23239  9088  3725  1584   658  2995   407    67    26     4     3     1     1 \n",
       "   56 \n",
       "    1 "
      ]
     },
     "metadata": {},
     "output_type": "display_data"
    },
    {
     "data": {
      "text/html": [
       "42"
      ],
      "text/latex": [
       "42"
      ],
      "text/markdown": [
       "42"
      ],
      "text/plain": [
       "[1] 42"
      ]
     },
     "metadata": {},
     "output_type": "display_data"
    }
   ],
   "source": [
    "# frequency table\n",
    "table(post_sample_reduced$T)\n",
    "\n",
    "as.integer(names(table(post_sample_reduced$T)[which.max(table(post_sample_reduced$T))])) # most frequent value"
   ]
  },
  {
   "cell_type": "code",
   "execution_count": 47,
   "metadata": {
    "vscode": {
     "languageId": "r"
    }
   },
   "outputs": [],
   "source": [
    "lambda_1_density <- density(post_sample_reduced$lambda_1,n=100)\n",
    "lambda_1_MAP <- lambda_1_density$x[which.max(lambda_1_density$y)]\n",
    "\n",
    "lambda_2_density <- density(post_sample_reduced$lambda_2,n=100)\n",
    "lambda_2_MAP <- lambda_2_density$x[which.max(lambda_2_density$y)]"
   ]
  },
  {
   "cell_type": "code",
   "execution_count": 48,
   "metadata": {
    "vscode": {
     "languageId": "r"
    }
   },
   "outputs": [
    {
     "data": {
      "text/html": [
       "<table class=\"dataframe\">\n",
       "<caption>A data.frame: 1 × 6</caption>\n",
       "<thead>\n",
       "\t<tr><th scope=col>lambda_1_median</th><th scope=col>lambda_2_median</th><th scope=col>T_median</th><th scope=col>T_MAP</th><th scope=col>lambda_1_MAP</th><th scope=col>lambda_2_MAP</th></tr>\n",
       "\t<tr><th scope=col>&lt;dbl&gt;</th><th scope=col>&lt;dbl&gt;</th><th scope=col>&lt;dbl&gt;</th><th scope=col>&lt;dbl&gt;</th><th scope=col>&lt;dbl&gt;</th><th scope=col>&lt;dbl&gt;</th></tr>\n",
       "</thead>\n",
       "<tbody>\n",
       "\t<tr><td>3.085263</td><td>0.9460192</td><td>1891</td><td>1892</td><td>3.066427</td><td>0.9241233</td></tr>\n",
       "</tbody>\n",
       "</table>\n"
      ],
      "text/latex": [
       "A data.frame: 1 × 6\n",
       "\\begin{tabular}{llllll}\n",
       " lambda\\_1\\_median & lambda\\_2\\_median & T\\_median & T\\_MAP & lambda\\_1\\_MAP & lambda\\_2\\_MAP\\\\\n",
       " <dbl> & <dbl> & <dbl> & <dbl> & <dbl> & <dbl>\\\\\n",
       "\\hline\n",
       "\t 3.085263 & 0.9460192 & 1891 & 1892 & 3.066427 & 0.9241233\\\\\n",
       "\\end{tabular}\n"
      ],
      "text/markdown": [
       "\n",
       "A data.frame: 1 × 6\n",
       "\n",
       "| lambda_1_median &lt;dbl&gt; | lambda_2_median &lt;dbl&gt; | T_median &lt;dbl&gt; | T_MAP &lt;dbl&gt; | lambda_1_MAP &lt;dbl&gt; | lambda_2_MAP &lt;dbl&gt; |\n",
       "|---|---|---|---|---|---|\n",
       "| 3.085263 | 0.9460192 | 1891 | 1892 | 3.066427 | 0.9241233 |\n",
       "\n"
      ],
      "text/plain": [
       "  lambda_1_median lambda_2_median T_median T_MAP lambda_1_MAP lambda_2_MAP\n",
       "1 3.085263        0.9460192       1891     1892  3.066427     0.9241233   "
      ]
     },
     "metadata": {},
     "output_type": "display_data"
    }
   ],
   "source": [
    "# extract point estimates\n",
    "T_MAP <- as.integer(names(sort(-table(post_sample_reduced$T)))[1]) + (year[1] - 1) # equivalent year\n",
    "T_median <- median(post_sample_reduced$T) + (year[1] - 1)\n",
    "lambda_1_median <- median(post_sample_reduced$lambda_1)\n",
    "lambda_2_median <- median(post_sample_reduced$lambda_2)\n",
    "data.frame(\n",
    "    \"lambda_1_median\"=lambda_1_median,\n",
    "    \"lambda_2_median\"=lambda_2_median,\n",
    "    \"T_median\"=T_median,\n",
    "    \"T_MAP\"=T_MAP,\n",
    "    \"lambda_1_MAP\"=lambda_1_MAP,\n",
    "    \"lambda_2_MAP\"=lambda_2_MAP\n",
    ")"
   ]
  },
  {
   "cell_type": "code",
   "execution_count": 49,
   "metadata": {
    "vscode": {
     "languageId": "r"
    }
   },
   "outputs": [
    {
     "data": {
      "image/png": "[encoded data removed]",
      "text/plain": [
       "Plot with title \"paste(\"Sampled posterior distribution of \", lambda[2])\""
      ]
     },
     "metadata": {
      "image/png": {
       "height": 270,
       "width": 720
      }
     },
     "output_type": "display_data"
    }
   ],
   "source": [
    "options(repr.plot.width=12, repr.plot.height=4.5) # set plot size\n",
    "layout(matrix(c(1,2,3), nrow=1)) # figure with 3 plots\n",
    "\n",
    "hist(\n",
    "    post_sample_reduced$T + (year[1] - 1),\n",
    "    prob=\"T\", breaks=20,\n",
    "    xlab=\"Year\",\n",
    "    main=expression(paste(\"Sampled posterior distribution of T\"))\n",
    ")\n",
    "abline(v=T_median, col=\"red\", lwd=2)\n",
    "\n",
    "hist(\n",
    "    post_sample_reduced$lambda_1,\n",
    "    prob=\"T\", breaks=20,\n",
    "    xlab=expression(lambda[1]),\n",
    "    main=expression(paste(\"Sampled posterior distribution of \",lambda[1]))\n",
    ")\n",
    "abline(v=lambda_1_median, col=\"red\", lwd=2)\n",
    "\n",
    "hist(\n",
    "    post_sample_reduced$lambda_2,\n",
    "    prob=\"T\", breaks=20,\n",
    "    xlab=expression(lambda[2]),\n",
    "    main=expression(paste(\"Sampled posterior distribution of \",lambda[2]))\n",
    ")\n",
    "abline(v=lambda_2_median, col=\"red\", lwd=2)\n"
   ]
  },
  {
   "cell_type": "markdown",
   "metadata": {},
   "source": [
    "#### Posterior preditive distribution"
   ]
  },
  {
   "cell_type": "markdown",
   "metadata": {},
   "source": [
    "The posterior predictive distribution, $p(\\tilde{y}|y)$ can be approximated by taking samples from the posterior distribution that we've approximated with Gibbs, and plugging those sampled values into our sampling distribution $\\tilde{y_i} \\sim p(\\tilde{y}|T_i) = Poi(\\lambda)$, where $\\lambda = \\lambda_1$ for $i \\lt T_i$, and $\\lambda_2$ for $i \\ge T_i$"
   ]
  },
  {
   "cell_type": "code",
   "execution_count": 50,
   "metadata": {
    "vscode": {
     "languageId": "r"
    }
   },
   "outputs": [],
   "source": [
    "pred_m <- length(post_sample_reduced$T) # num samples from predictive distribution\n",
    "pred_sample <- matrix(0, nrow=pred_m, ncol=length(year)) # row for each sample, col for each possible value of T\n",
    "\n",
    "for (step in 1:pred_m){\n",
    "    for (i in 1:length(year)){\n",
    "        # sample Ti from our posterior (previously approximated with Gibbs)\n",
    "        Ti <- sample(post_sample_reduced$T, 1)\n",
    "\n",
    "        # for each change-point Ti, calculate sampling distribution of yi_tilde, given that value of Ti\n",
    "        if (i < Ti){\n",
    "            # sample from sampling distribution using lambda_1 if sampled year is before change year Ti\n",
    "            pred_sample[step,i] <- rpois(1, post_sample_reduced$lambda_1)\n",
    "        }else{\n",
    "            # else sample using lambda_2\n",
    "            pred_sample[step,i] <- rpois(1, post_sample_reduced$lambda_2)\n",
    "        }\n",
    "    }\n",
    "}"
   ]
  },
  {
   "cell_type": "code",
   "execution_count": 51,
   "metadata": {
    "vscode": {
     "languageId": "r"
    }
   },
   "outputs": [],
   "source": [
    "# build quantiles from sample\n",
    "cum_pred <- t(apply(pred_sample,1,cumsum))\n",
    "\n",
    "median_T <- rep(0,length(year))\n",
    "lower_T <- rep(0,length(year))\n",
    "upper_T <- rep(0,length(year))\n",
    "\n",
    "for (i in 1:length(year)){\n",
    "    lower_T[i] <- quantile(cum_pred[,i], probs=c(0.025))\n",
    "    median_T[i] <- quantile(cum_pred[,i], probs=c(0.5))\n",
    "    upper_T[i] <- quantile(cum_pred[,i], probs=c(0.975))\n",
    "}"
   ]
  },
  {
   "cell_type": "code",
   "execution_count": 52,
   "metadata": {
    "vscode": {
     "languageId": "r"
    }
   },
   "outputs": [
    {
     "data": {
      "image/png": "[encoded data removed]",
      "text/plain": [
       "Plot with title \"Posterior predictive vs observed\""
      ]
     },
     "metadata": {
      "image/png": {
       "height": 330,
       "width": 360
      }
     },
     "output_type": "display_data"
    }
   ],
   "source": [
    "options(repr.plot.width=6, repr.plot.height=5.5) # set plot size\n",
    "plot(\n",
    "    year, cumsum(y), type=\"l\",\n",
    "    main=expression(\"Posterior predictive vs observed\"),\n",
    "    ylab=\"Disaster count\", xlab=\"Year\"\n",
    ")\n",
    "lines(year, median_T, col=\"red\")\n",
    "lines(year, lower_T, col=\"green\")\n",
    "lines(year, upper_T, col=\"green\")\n",
    "\n",
    "abline(v=T_MAP, lty=2)\n",
    "\n",
    "# add legend\n",
    "legend(\"bottomright\", inset = c(0.16,0),\n",
    "    c(\"Observed data\",\"Prediction Median\",\"95% prediction interval\",\"Estimated change point\"), # labels\n",
    "    col=c(\"black\",\"red\",\"green\",\"black\"), # line colours\n",
    "    lty=c(1, 1, 1, 3), # line types\n",
    "    lwd=c(2, 2, 2, 2), # line widths\n",
    "    y.intersp=3, # increase spacing\n",
    "    bty=\"n\") # remove border "
   ]
  },
  {
   "cell_type": "markdown",
   "metadata": {},
   "source": [
    "We can see from the plot that this model describes the data significantly better than the model with no change-points, as the predictive median value follows the data reasonably well, and the observed data falls within the 95% prediction interval at all points.\n",
    "\n",
    "However the predictive distribution becomes less reliable towards the end of the time period, suggesting we might like to add more change-points to the model to make more reliable predictions about future values of $\\tilde{y}$."
   ]
  },
  {
   "cell_type": "markdown",
   "metadata": {},
   "source": [
    "## Two change-point model"
   ]
  },
  {
   "cell_type": "markdown",
   "metadata": {},
   "source": [
    "Continuing with my Gibbs sampler, I next attempted to extend the model to consider the case with two change points.\n",
    "\n",
    "For the two-change point model, we want to infer 5 parameters, $\\lambda_1, \\lambda_2, \\lambda_3, T_1, T_2$, and I attempted to derive the joint posterior distribution as given below:"
   ]
  },
  {
   "cell_type": "markdown",
   "metadata": {},
   "source": [
    "$p\\left(\\lambda_1,\\lambda_2,\\lambda_3,T_1,T_2\\mid y_{\\left(1:N\\right)},\\alpha,\\beta\\right)$\n",
    "\n",
    "$\\qquad\n",
    "    \\propto\\;p\\left(y_{\\left(1:T_1-1\\right)}\\mid\\lambda_1\\right)\\times p\\left(y_{\\left(T_1:T_2-1\\right)}\\mid\\lambda_2\\right)\\times p\\left(y_{\\left(T_2:N\\right)}\\mid\\lambda_3\\right)\\times p\\left(\\lambda_1\\mid\\alpha,\\beta\\right)\\times p\\left(\\lambda_2\\mid\\alpha,\\beta\\right)\\ \\times p\\left(\\lambda_3\\mid\\alpha,\\beta\\right)\\times p\\left(T_1,T_2\\right)$\n",
    "\n",
    "$\\qquad\n",
    "    \\propto \\; \\text{Poi}(y_{\\left(1:T_1-1\\right)} \\mid \\lambda_1) \\times \n",
    "    \\text{Poi}(y_{(T_1:T_2-1)} \\mid \\lambda_2) \\times \n",
    "    \\text{Poi}(y_{(T_2:N)} \\mid \\lambda_3) \\times \n",
    "    \\text{Ga}(\\lambda_1 \\mid \\alpha, \\beta) \\times \n",
    "    \\text{Ga}(\\lambda_2 \\mid \\alpha, \\beta) \\times \n",
    "    \\text{Ga}(\\lambda_3 \\mid \\alpha, \\beta) \\times \n",
    "    p(T_1,T_2)$\n"
   ]
  },
  {
   "cell_type": "markdown",
   "metadata": {},
   "source": [
    "$\\qquad\n",
    "    \\propto \\displaystyle \\prod_{i=1}^{T_1-1}\\frac{\\lambda_1^{y_i}e^{-\\lambda_1}}{y_i!}\\ \\times\\prod_{i=T_1}^{T_2-1}\\frac{\\lambda_2^{y_i}e^{-\\lambda_2}}{y_i!}\\ \\times\\prod_{i=T_2}^{N}\\frac{\\lambda_3^{y_i}e^{-\\lambda_3}}{y_i!}\\ {\\times\\ \\lambda}_1e^{-\\lambda_1}\\ \\times\\ \\lambda_2e^{-\\lambda_2}\\times\\lambda_3e^{-\\lambda_3}\\times\\ \\binom{111}{2}^{-1}$\n",
    "\n",
    "$\\qquad\n",
    "    \\propto \n",
    "    \\cfrac{{\\lambda_1}^{\\sum_{i=1}^{{(T}_1-1)}y_i}\\ \\ e^{-(T_1-1)\\lambda_1}}{\\prod_{i=1}^{{(T}_1-1)}{y_i!}}\\ \\times\n",
    "    \\cfrac{{\\lambda_2}^{\\sum_{i=T_1}^{{(T}_2-1)}y_i}\\ \\ e^{-(T_2-T_1)\\lambda_2}}{\\prod_{i=T_1}^{(T_2-1)}{y_i!}} \\times\n",
    "    \\cfrac{{\\lambda_3}^{\\sum_{i=T_2}^{N}y_i}\\ \\ e^{-(N-T_2)\\lambda_3}}{\\prod_{i=T_2}^{N}{y_i!}}\\ {\\times\\ \\lambda}_1e^{-\\lambda_1}\\ \\times\\ \\lambda_2e^{-\\lambda_2}\\times \\lambda_3e^{-\\lambda_3}\\times\\ \\cfrac{1}{6105}$"
   ]
  },
  {
   "cell_type": "markdown",
   "metadata": {},
   "source": [
    "#### Conditional distributions"
   ]
  },
  {
   "cell_type": "markdown",
   "metadata": {},
   "source": [
    "For the $\\lambda_i$ terms, I constructed the conditionals using conjugate updates as follows:"
   ]
  },
  {
   "cell_type": "markdown",
   "metadata": {},
   "source": [
    "$p\\left(\\lambda_1\\mid y_{\\left(1:T_1-1\\right)},T_1,\\alpha,\\beta\\right)\\; \\propto \\;\n",
    "    p\\left(y_{\\left(1:T_1-1\\right)}\\mid\\lambda_1\\right)\\times p\\left(\\lambda_1\\mid\\alpha,\\beta\\right)$\n",
    "\n",
    "$\\qquad\\qquad\\qquad\\qquad\\qquad\\quad \\propto\\;\n",
    "    \\text{Poi}(y_{\\left(1:T_1-1\\right)} \\mid \\lambda_1) \\times \\text{Ga}(\\lambda_1 \\mid \\alpha, \\beta)$\n",
    "\n",
    "$\\qquad\\qquad\\qquad\\qquad\\qquad\\quad \\sim\n",
    "    \\text{Gamma}\\left(\\alpha + \\displaystyle\\sum_{i=1}^{T_1-1}y_i, \\; \\beta+(T_1-1)\\right)$"
   ]
  },
  {
   "cell_type": "markdown",
   "metadata": {},
   "source": [
    "$p\\left(\\lambda_2\\mid y_{\\left(T_1:T_2-1\\right)},T_1,T_2,\\alpha,\\beta\\right)\\;\\propto\\;p\n",
    "    \\left(y_{\\left(T_1:T_2-1\\right)}\\mid\\lambda_2\\right)\\times p\\left(\\lambda_2\\mid\\alpha,\\beta\\right)$\n",
    "\n",
    "$\\qquad\\qquad\\qquad\\qquad\\qquad\\quad \\propto\\;\n",
    "    \\text{Poi}(y_{\\left(T_1:T_2-1\\right)} \\mid \\lambda_2) \\times \\text{Ga}(\\lambda_2 \\mid \\alpha, \\beta)$\n",
    "\n",
    "$\\qquad\\qquad\\qquad\\qquad\\qquad\\quad \\sim\n",
    "    \\text{Gamma}\\left(\\alpha + \\displaystyle\\sum_{i=T_1}^{T_2-1}y_i, \\; \\beta + (T_2 - T_1)\\right)$"
   ]
  },
  {
   "cell_type": "markdown",
   "metadata": {},
   "source": [
    "$p\\left(\\lambda_3\\mid y_{\\left(T_2:N\\right)},T_2,\\alpha,\\beta\\right)\\;\\propto\\;\n",
    "    p\\left(y_{\\left(T_2:N\\right)}\\mid\\lambda_3\\right)\\times p\\left(\\lambda_3\\mid\\alpha,\\beta\\right)$\n",
    "\n",
    "$\\qquad\\qquad\\qquad\\qquad\\qquad\\quad \\propto\\;\n",
    "    \\text{Poi}(y_{\\left(T_2:N\\right)} \\mid \\lambda_3) \\times \\text{Ga}(\\lambda_3 \\mid \\alpha, \\beta)$\n",
    "\n",
    "$\\qquad\\qquad\\qquad\\qquad\\qquad\\quad \\sim\n",
    "    \\text{Gamma}\\left(\\alpha + \\displaystyle\\sum_{i=T_2}^{N}y_i, \\; \\beta+(N-T_2)\\right)$"
   ]
  },
  {
   "cell_type": "markdown",
   "metadata": {},
   "source": [
    "Finally I attempted to construct the conditional distribution for the $T_i$ terms.\n",
    "\n",
    "I first attempted to construct a joint conditional distribution for $T_1,T_2$ pairs as shown below, with the intention of taking a pair of samples at iteration."
   ]
  },
  {
   "cell_type": "markdown",
   "metadata": {},
   "source": [
    "$p\\left(T_1,T_2\\mid y_{\\left(1:N\\right)},\\lambda_1,\\lambda_2,\\lambda_3\\right)$\n",
    "\n",
    "$\\qquad \\propto\\;\n",
    "    p\\left(y_{\\left(1:T_1-1\\right)}\\mid\\lambda_1\\right)\\times p\\left(y_{\\left(T_1:T_2-1\\right)}\\mid\\lambda_2\\right)\\times p\\left(y_{\\left(T_2:N\\right)}\\mid\\lambda_3\\right)\\times p\\left(T_1,T_2\\right)$\n",
    "\n",
    "$\\qquad \\propto\\;\n",
    "    \\text{Poi}\\left(y_{\\left(1:T_1-1\\right)}\\mid\\lambda_1\\right) \\times \\text{Poi}\\left(y_{\\left(T_1:T_2-1\\right)}\\mid\\lambda_2\\right)\\times \\text{Poi}\\left(y_{\\left(T_2:N\\right)}\\mid\\lambda_3\\right)\\times p\\left(T_1,T_2\\right)$\n",
    "\n",
    "$\\qquad \\propto\\;\n",
    "    \\displaystyle\\prod_{i=1}^{T_1-1}\\frac{\\lambda_1^{y_i}e^{-\\lambda_1}}{y_i!}\\ \\times\\prod_{i=T_1}^{T_2-1}\\frac{\\lambda_2^{y_i}e^{-\\lambda_2}}{y_i!}\\ \\times\\prod_{i=T_2}^{N}\\frac{\\lambda_3^{y_i}e^{-\\lambda_3}}{y_i!}\\ \\times\\ \\binom{111}{2}^{-1}$\n",
    "\n",
    "$\\qquad \\propto\\;\n",
    "    \\displaystyle\\frac{{\\lambda_1}^{\\sum_{i=1}^{{(T}_1-1)}y_i}\\ \\ e^{-(T_1-1)\\lambda_1}}{\\prod_{i=1}^{{(T}_1-1)}{y_i!}}\\ \\times\\frac{{\\lambda_2}^{\\sum_{i=T_1}^{{(T}_2-1)}y_i}\\ \\ e^{-(T_2-T_1)\\lambda_2}}{\\prod_{i=T_1}^{(T_2-1)}{y_i!}}\\times\\frac{{\\lambda_3}^{\\sum_{i=T_2}^{N}y_i}\\ \\ e^{-(N-T_2)\\lambda_3}}{\\prod_{i=T_2}^{N}{y_i!}}\\ \\times\\ \\frac{1}{6105}$\n",
    "\n",
    "$\\qquad \\propto\\;\n",
    "    {{\\lambda}_1}^{\\sum_{i=1}^{{(T}_1-1)}y_i}\\ \\ e^{-(T_1-1)\\lambda_1}\\ \\times\\ {\\lambda_2}^{\\sum_{i=T_1}^{{(T}_2-1)}y_i}\\ \\ e^{-(T_2-T_1)\\lambda_2}\\times {\\lambda_3}^{\\sum_{i=T_2}^{N}y_i}\\ \\ e^{-(N-T_2)\\lambda_3}$"
   ]
  },
  {
   "cell_type": "markdown",
   "metadata": {},
   "source": [
    "When I couldn’t get that working I attempted to derive conditional distributions for $T_1$ and $T_2$ individually:"
   ]
  },
  {
   "cell_type": "markdown",
   "metadata": {},
   "source": [
    "$p\\left(T_1\\mid y_{\\left(1:N\\right)},\\lambda_1,\\lambda_2,\\lambda_3,T_2\\right)$\n",
    "\n",
    "$\\qquad \\propto\\;\n",
    "    p\\left(y_{\\left(1:T_1-1\\right)}\\mid\\lambda_1\\right)\\times p\\left(y_{\\left(T_1:T_2-1\\right)}\\mid\\lambda_2\\right)\\times p\\left(T_1,T_2\\right)$\n",
    "\n",
    "$\\qquad \\propto\\;\n",
    "    \\text{Poi}\\left(y_{\\left(1:T_1-1\\right)}\\mid\\lambda_1\\right)\\times \\text{Poi}\\left(y_{\\left(T_1:T_2-1\\right)}\\mid\\lambda_2\\right)\\times p\\left(T_1,T_2\\right)$\n",
    "\n",
    "$\\qquad \\propto\\;\n",
    "    \\displaystyle\\prod_{i=1}^{T_1-1}\\frac{\\lambda_1^{y_i}e^{-\\lambda_1}}{y_i!}\\ \\times\\prod_{i=T_1}^{T_2-1}\\frac{\\lambda_2^{y_i}e^{-\\lambda_2}}{y_i!}\\ \\times\\binom{111}{2}^{-1}$\n",
    "\n",
    "$\\qquad \\propto\\;\n",
    "    \\displaystyle\\frac{{\\lambda_1}^{\\sum_{i=1}^{{(T}_1-1)}y_i}\\ \\ e^{-(T_1-1)\\lambda_1}}{\\prod_{i=1}^{{(T}_1-1)}{y_i!}}\\ \\times\\frac{{\\lambda_2}^{\\sum_{i=T_1}^{{(T}_2-1)}y_i}\\ \\ e^{-(T_2-T_1)\\lambda_2}}{\\prod_{i=T_1}^{(T_2-1)}{y_i!}}\\times\\ \\frac{1}{6105}$\n",
    "\n",
    "$\\qquad \\propto\\;\n",
    "    {{\\lambda}_1}^{\\sum_{i=1}^{{(T}_1-1)}y_i}\\ \\ e^{-(T_1-1)\\lambda_1}\\ \\times\\ {\\lambda_2}^{\\sum_{i=T_1}^{{(T}_2-1)}y_i}\\ \\ e^{-(T_2-T_1)\\lambda_2}$\n"
   ]
  },
  {
   "cell_type": "markdown",
   "metadata": {},
   "source": [
    "$p\\left(T_2\\mid y_{\\left(1:N\\right)},\\lambda_1,\\lambda_2,\\lambda_3,T_1\\right)$\n",
    "\n",
    "$\\qquad \\propto\\;\n",
    "    p\\left(y_{\\left(T_1:T_2-1\\right)}\\mid\\lambda_2\\right)\\times p\\left(y_{\\left(T_2:N\\right)}\\mid\\lambda_3\\right)\\times p\\left(T_1,T_2\\right)$\n",
    "\n",
    "$\\qquad \\propto\\;\n",
    "    \\text{Poi}\\left(y_{\\left(T_1:T_2-1\\right)}\\mid\\lambda_2\\right)\\times \\text{Poi}\\left(y_{\\left(T_2:N\\right)}\\mid\\lambda_3\\right)\\times p\\left(T_1,T_2\\right)$\n",
    "\n",
    "$\\qquad \\propto\\;\n",
    "    \\displaystyle\\prod_{i=T_1}^{T_2-1}\\frac{\\lambda_2^{y_i}e^{-\\lambda_2}}{y_i!}\\ \\times\\prod_{i=T_2}^{N}\\frac{\\lambda_3^{y_i}e^{-\\lambda_3}}{y_i!}\\ \\times\\ \\binom{111}{2}^{-1}$\n",
    "\n",
    "$\\qquad \\propto\\;\n",
    "    \\displaystyle\\frac{{\\lambda_2}^{\\sum_{i=T_1}^{{(T}_2-1)}y_i}\\ \\ e^{-(T_2-T_1)\\lambda_2}}{\\prod_{i=T_1}^{(T_2-1)}{y_i!}}\\times\\frac{{\\lambda_3}^{\\sum_{i=T_2}^{N}y_i}\\ \\ e^{-(N-T_2)\\lambda_3}}{\\prod_{i=T_2}^{N}{y_i!}}\\ \\times\\ \\frac{1}{6105}$\n",
    "\n",
    "$\\qquad \\propto\\;\n",
    "    {\\lambda_2}^{\\sum_{i=T_1}^{{(T}_2-1)}y_i}\\ e^{-(T_2-T_1)\\lambda_2}\\times {\\lambda_3}^{\\sum_{i=T_2}^{N}y_i}\\ \\ e^{-(N-T_2)\\lambda_3}$\n"
   ]
  },
  {
   "cell_type": "markdown",
   "metadata": {},
   "source": [
    "Unfortunately neither of these approaches worked, and I couldn't work out how to model the $T_i$ terms, given the requirement that $T_1 < T_2$.\n",
    "\n",
    "I considered using a mixed approach, sampling the $\\lambda_i$ terms using Gibbs, and then drawing pairs of independent $T_i$ samples at each stage, but I wasn't sure of the implications of doing this for the other parameters, and ran out of time to explore this further in the course of the project."
   ]
  },
  {
   "cell_type": "markdown",
   "metadata": {},
   "source": [
    "## Conclusions"
   ]
  },
  {
   "cell_type": "markdown",
   "metadata": {},
   "source": [
    "### Summary of results"
   ]
  },
  {
   "cell_type": "markdown",
   "metadata": {},
   "source": [
    "In this project, I have attempted to perform Bayesian inference on a data set counting the number of coal mining disasters in the UK annually between 1851-1962, in order to identify possible change points in the mining disaster rate during that period, which may be linked to sociopolitical events such as legislative changes or trade union activity.\n",
    "\n",
    "I first constructed a Metropolis-Hastings sampler for the 0 change point case, which performed well, producing results comparable to the analytical posterior in reasonable time, however I struggled to extend my sampler to the 1 change point case, so I'm unable to assess how well this might have performed for larger numbers of change points.\n",
    "\n",
    "I then constructed a Gibbs sampler for the 1 change point case, which also produced good results, generating a 95% posterior predictive interval that fully enclosed the observed data, and a median predictive rate that followed the trend of the observed data reasonably well.\n",
    "\n",
    "Although I was unable to extend my Gibbs sampler to the two-change-point case or beyond, my model for 1 change point was a significant improvement on the 0 change point model, which is easily visible form the plots."
   ]
  },
  {
   "cell_type": "markdown",
   "metadata": {},
   "source": [
    "### Implications and limitations"
   ]
  },
  {
   "cell_type": "markdown",
   "metadata": {},
   "source": [
    "Through this project I have demonstrated that Bayesian inference can be used to model the problem of change point detection for this simple case, and that it is possible to build a Gibbs sampler for the 1 change point model which produces good results in a short amount of time.\n",
    "\n",
    "A big limitation of this project is that I was not able to extend my samplers beyond the 1 change point model, so I was not able to consider the improvements in fit that might be achieved with increasing numbers of change points. However it's important to note that the 1 change point model does a reasonably good job at describing the disaster rate over the period, and there's a balance to be struck between increasing the fit of the existing data, and not overfitting the model to the observed data, so that the model loses its predictive power.\n",
    "\n",
    "Looking at the plots by eye, you might suggest a model with 5 change points would likely capture the major changes in the disaster rate over the period. Importantly with more change points, the predictive gradient towards to end of the graph would likely level off, so that future predictions based on this data might be influenced more by the flatter trend towards the end of the period, than in my 1 change point model, which I suspect would overestimate the disaster rate going forward. Extending the model much beyond 5 change points looks likely to increase the complexity of the model, with diminishing returns, and an increasing risk of overfitting.\n"
   ]
  },
  {
   "cell_type": "markdown",
   "metadata": {},
   "source": [
    "### Possibilities for future work"
   ]
  },
  {
   "cell_type": "markdown",
   "metadata": {},
   "source": [
    "I would really like to have been able to model 5-7 change points with my Gibbs sampler, to see how the fit compared for different models, and to see the improvements tailing off. With a set of models, it would be really interesting to compare the predictive power of models created with this data set, against the (relatively small) number of mining disasters since 1962, to see how they compare.\n",
    "\n",
    "It would be interesting to consider possible reasons for the change points, and if there are any data sets available that might shed light on the downwards trend, for example comparing the number of active coal mines in the UK, or the number of full-time workers employed in coal mining, against the disaster rate. We might also consider whether the disaster rate varied geographically, and any possible reasons for this.\n",
    "\n",
    "This project considered the count of disasters, treating each disaster as if they were equal, however the scale and impact of mining disasters might vary considerably, so it would be interesting to compare the number of fatalities or injuries, if such data is available, and to see if the fatality rate follows a similar trend to the disaster rate.\n",
    "\n",
    "Coming back to my Gibbs sampler, it would be interesting to consider the effect that different priors or the dispersion of starting points have on model performance. As a probabilistic method, my Gibbs sampler came out differently each time I ran it, so it would be interesting to consider the effect of combining the results of multiples runs of the same sampler, to get a better overall view of the model performance and the likelihood of different change points."
   ]
  },
  {
   "cell_type": "markdown",
   "metadata": {},
   "source": [
    "### Reflections on project\n"
   ]
  },
  {
   "cell_type": "markdown",
   "metadata": {},
   "source": [
    "Although I struggled to implement any of the approaches I tried beyond 1 change point, I learned a lot about how the different algorithms worked, and enjoyed that aspect of the project. In terms of achieving the stated aims of the project, it might have been better to spend more time working on a direct sampling method that enabled me to compute more than 1 change point. However I feel that I've probably learned more from trying a few different approaches, even if I didn't get very far with any of them.\n",
    "\n",
    "I was particularly disappointed that I wasn't able to compute Gibbs for a second change point, as it felt like I was very close, and that if I'd have been able to work out how to handle the $T_i$ terms, I'd have been able to extend it beyond the second change point, and explore the problem more thoroughly. I initially shied away from Gibbs, because whilst it seemed like a good fit for the problem, I didn't feel confident about my ability to calculate the conditional probabilities, and that was the most difficult part for me.\n",
    "\n",
    "I found this project very mathematically challenging, and will take solace from the fact that if I was attempting to undertake this project in any other setting, I would have been able to work with colleagues to calculate and check the equations together, so I wouldn't spend weeks banging my head against a wall, and could get on with doing cool things with data."
   ]
  },
  {
   "cell_type": "markdown",
   "metadata": {},
   "source": [
    "## References"
   ]
  },
  {
   "cell_type": "markdown",
   "metadata": {},
   "source": [
    "Jarrett, R. G. 1979. “A Note on the Intervals Between Coal-Mining Disasters.” Biometrika 66 (1): 191–93. \n",
    "\n",
    "Taylor, A. J. 1968. “The Coal Industry.” In The Development of British Industry and Foreign Competition 1875–1914, 37–70. University of Toronto Press. \n",
    "\n",
    "Dwyer, T., and A.E. Raftery. 1991. “Industrial Accidents Are Produced by Social Relations of Work: A Sociological Theory of Industrial Accidents.” Applied Ergonomics 22 (3): 167–78. \n",
    "\n",
    "Hastings, W. K. 1970. “Monte Carlo Sampling Methods Using Markov Chains and Their Applications.” Biometrika 57 (1): 97–109.\n",
    "\n",
    "Geman, S., and D. Geman. 1984. “Stochastic Relaxation, Gibbs Distributions, and the Bayesian Restoration of Images.” IEEE Transactions on Pattern Analysis and Machine Intelligence PAMI-6 (6): 721–41. doi:10.1109/TPAMI.1984.4767596.\n",
    "\n",
    "10 Gelman, A., and D. B. Rubin. 1992. “Inference from Iterative Simulation Using Multiple Sequences.” Statistical Science 7 (4). Institute of Mathematical Statistics: 457–72.\n",
    "\n",
    "Lambert, B. 2018, A student's guide to Bayesian statistics, SAGE Publications, London.\n"
   ]
  }
 ],
 "metadata": {
  "kernelspec": {
   "display_name": "R",
   "language": "R",
   "name": "ir"
  },
  "language_info": {
   "codemirror_mode": "r",
   "file_extension": ".r",
   "mimetype": "text/x-r-source",
   "name": "R",
   "pygments_lexer": "r",
   "version": "4.1.3"
  }
 },
 "nbformat": 4,
 "nbformat_minor": 2
}
